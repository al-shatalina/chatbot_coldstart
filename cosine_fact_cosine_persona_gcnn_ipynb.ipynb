{
  "cells": [
    {
      "cell_type": "code",
      "execution_count": 1,
      "metadata": {
        "id": "Afs3oVWdGaOx"
      },
      "outputs": [
        {
          "name": "stderr",
          "output_type": "stream",
          "text": [
            "c:\\Users\\Alex\\scoop\\apps\\python\\3.12.6\\Lib\\site-packages\\sentence_transformers\\cross_encoder\\CrossEncoder.py:13: TqdmExperimentalWarning: Using `tqdm.autonotebook.tqdm` in notebook mode. Use `tqdm.tqdm` instead to force console mode (e.g. in jupyter console)\n",
            "  from tqdm.autonotebook import tqdm, trange\n"
          ]
        },
        {
          "name": "stdout",
          "output_type": "stream",
          "text": [
            "WARNING:tensorflow:From c:\\Users\\Alex\\scoop\\apps\\python\\3.12.6\\Lib\\site-packages\\tf_keras\\src\\losses.py:2976: The name tf.losses.sparse_softmax_cross_entropy is deprecated. Please use tf.compat.v1.losses.sparse_softmax_cross_entropy instead.\n",
            "\n"
          ]
        }
      ],
      "source": [
        "import numpy as np\n",
        "import pandas as pd\n",
        "import nltk\n",
        "import sentence_transformers\n",
        "from string import punctuation\n",
        "from sklearn.model_selection import train_test_split\n",
        "from collections import Counter\n",
        "import matplotlib.pyplot as plt\n",
        "from sklearn.metrics.pairwise import cosine_distances, cosine_similarity\n",
        "from sentence_transformers import SentenceTransformer\n",
        "from nltk import sent_tokenize, word_tokenize\n",
        "from tqdm import tqdm\n",
        "import torch.nn"
      ]
    },
    {
      "cell_type": "code",
      "execution_count": 2,
      "metadata": {
        "colab": {
          "base_uri": "https://localhost:8080/"
        },
        "id": "7WyCRFZQn8rA",
        "outputId": "746f0af8-48bb-4378-ff93-a6bcb94e1a5c"
      },
      "outputs": [],
      "source": [
        "import pandas as pd\n",
        "\n",
        "splits = {'train': 'data/Synthetic-Persona-Chat_train.csv', 'validation': 'data/Synthetic-Persona-Chat_valid.csv', 'test': 'data/Synthetic-Persona-Chat_test.csv'}\n",
        "df = pd.read_csv(\"hf://datasets/google/Synthetic-Persona-Chat/\" + splits[\"train\"])"
      ]
    },
    {
      "cell_type": "code",
      "execution_count": 3,
      "metadata": {
        "id": "bw8l-Yu8oTNY"
      },
      "outputs": [],
      "source": [
        "personas = df['user 1 personas']+df['user 2 personas']"
      ]
    },
    {
      "cell_type": "code",
      "execution_count": 4,
      "metadata": {
        "id": "A9B1866LoU1i"
      },
      "outputs": [],
      "source": [
        "data = pd.DataFrame()\n",
        "data['personas'] = personas\n",
        "data['persona_id'] = range(len(data['personas']))\n",
        "data['facts'] = range(len(data['personas']))"
      ]
    },
    {
      "cell_type": "code",
      "execution_count": 5,
      "metadata": {
        "colab": {
          "base_uri": "https://localhost:8080/"
        },
        "id": "wwdnYvEPot2R",
        "outputId": "36610285-7d3c-4409-875b-e676e5ec3b33"
      },
      "outputs": [
        {
          "name": "stderr",
          "output_type": "stream",
          "text": [
            "C:\\Users\\Alex\\AppData\\Local\\Temp\\ipykernel_49132\\3111025079.py:8: FutureWarning: ChainedAssignmentError: behaviour will change in pandas 3.0!\n",
            "You are setting values through chained assignment. Currently this works in certain cases, but when using Copy-on-Write (which will become the default behaviour in pandas 3.0) this will never work to update the original DataFrame or Series, because the intermediate object on which we are setting values will behave as a copy.\n",
            "A typical example is when you are setting values in a column of a DataFrame, like:\n",
            "\n",
            "df[\"col\"][row_indexer] = value\n",
            "\n",
            "Use `df.loc[row_indexer, \"col\"] = values` instead, to perform the assignment in a single step and ensure this keeps updating the original `df`.\n",
            "\n",
            "See the caveats in the documentation: https://pandas.pydata.org/pandas-docs/stable/user_guide/indexing.html#returning-a-view-versus-a-copy\n",
            "\n",
            "  data['facts'][index] = new_facts\n",
            "C:\\Users\\Alex\\AppData\\Local\\Temp\\ipykernel_49132\\3111025079.py:8: SettingWithCopyWarning: \n",
            "A value is trying to be set on a copy of a slice from a DataFrame\n",
            "\n",
            "See the caveats in the documentation: https://pandas.pydata.org/pandas-docs/stable/user_guide/indexing.html#returning-a-view-versus-a-copy\n",
            "  data['facts'][index] = new_facts\n",
            "C:\\Users\\Alex\\AppData\\Local\\Temp\\ipykernel_49132\\3111025079.py:8: FutureWarning: Setting an item of incompatible dtype is deprecated and will raise an error in a future version of pandas. Value '['I am 32', 'I do not want a job', 'I play video games all day', 'I still live at home with my parents', 'My favorite drink is iced coffee', 'I have a black belt in karate', 'I m in a jazz band and play the saxophone', 'I vacation along lake michigan every summer']' has dtype incompatible with int64, please explicitly cast to a compatible dtype first.\n",
            "  data['facts'][index] = new_facts\n"
          ]
        }
      ],
      "source": [
        "for index, row in data.iterrows():\n",
        "    facts = row['personas'].split('.')\n",
        "    new_facts = []\n",
        "    for fact in facts:\n",
        "      fact = fact.strip('\\n')\n",
        "      new_facts.append(fact)\n",
        "    new_facts = new_facts[:-1]\n",
        "    data['facts'][index] = new_facts"
      ]
    },
    {
      "cell_type": "code",
      "execution_count": 6,
      "metadata": {
        "id": "tzs6L7JAow_p"
      },
      "outputs": [],
      "source": [
        "data = data.explode('facts')\n",
        "data.reset_index(drop=True, inplace=True)"
      ]
    },
    {
      "cell_type": "code",
      "execution_count": 7,
      "metadata": {
        "colab": {
          "base_uri": "https://localhost:8080/",
          "height": 206
        },
        "id": "-b0WbMz5GpPt",
        "outputId": "3d77ef40-8c42-4b56-c0da-d5a3ecadb019"
      },
      "outputs": [
        {
          "data": {
            "text/html": [
              "<div>\n",
              "<style scoped>\n",
              "    .dataframe tbody tr th:only-of-type {\n",
              "        vertical-align: middle;\n",
              "    }\n",
              "\n",
              "    .dataframe tbody tr th {\n",
              "        vertical-align: top;\n",
              "    }\n",
              "\n",
              "    .dataframe thead th {\n",
              "        text-align: right;\n",
              "    }\n",
              "</style>\n",
              "<table border=\"1\" class=\"dataframe\">\n",
              "  <thead>\n",
              "    <tr style=\"text-align: right;\">\n",
              "      <th></th>\n",
              "      <th>personas</th>\n",
              "      <th>persona_id</th>\n",
              "      <th>facts</th>\n",
              "    </tr>\n",
              "  </thead>\n",
              "  <tbody>\n",
              "    <tr>\n",
              "      <th>0</th>\n",
              "      <td>I am 32.\\nI do not want a job.\\nI play video g...</td>\n",
              "      <td>0</td>\n",
              "      <td>I am 32</td>\n",
              "    </tr>\n",
              "    <tr>\n",
              "      <th>1</th>\n",
              "      <td>I am 32.\\nI do not want a job.\\nI play video g...</td>\n",
              "      <td>0</td>\n",
              "      <td>I do not want a job</td>\n",
              "    </tr>\n",
              "    <tr>\n",
              "      <th>2</th>\n",
              "      <td>I am 32.\\nI do not want a job.\\nI play video g...</td>\n",
              "      <td>0</td>\n",
              "      <td>I play video games all day</td>\n",
              "    </tr>\n",
              "    <tr>\n",
              "      <th>3</th>\n",
              "      <td>I am 32.\\nI do not want a job.\\nI play video g...</td>\n",
              "      <td>0</td>\n",
              "      <td>I still live at home with my parents</td>\n",
              "    </tr>\n",
              "    <tr>\n",
              "      <th>4</th>\n",
              "      <td>I am 32.\\nI do not want a job.\\nI play video g...</td>\n",
              "      <td>0</td>\n",
              "      <td>My favorite drink is iced coffee</td>\n",
              "    </tr>\n",
              "  </tbody>\n",
              "</table>\n",
              "</div>"
            ],
            "text/plain": [
              "                                            personas  persona_id  \\\n",
              "0  I am 32.\\nI do not want a job.\\nI play video g...           0   \n",
              "1  I am 32.\\nI do not want a job.\\nI play video g...           0   \n",
              "2  I am 32.\\nI do not want a job.\\nI play video g...           0   \n",
              "3  I am 32.\\nI do not want a job.\\nI play video g...           0   \n",
              "4  I am 32.\\nI do not want a job.\\nI play video g...           0   \n",
              "\n",
              "                                  facts  \n",
              "0                               I am 32  \n",
              "1                   I do not want a job  \n",
              "2            I play video games all day  \n",
              "3  I still live at home with my parents  \n",
              "4      My favorite drink is iced coffee  "
            ]
          },
          "execution_count": 7,
          "metadata": {},
          "output_type": "execute_result"
        }
      ],
      "source": [
        "data.head()"
      ]
    },
    {
      "cell_type": "code",
      "execution_count": 71,
      "metadata": {},
      "outputs": [
        {
          "data": {
            "text/html": [
              "<div>\n",
              "<style scoped>\n",
              "    .dataframe tbody tr th:only-of-type {\n",
              "        vertical-align: middle;\n",
              "    }\n",
              "\n",
              "    .dataframe tbody tr th {\n",
              "        vertical-align: top;\n",
              "    }\n",
              "\n",
              "    .dataframe thead th {\n",
              "        text-align: right;\n",
              "    }\n",
              "</style>\n",
              "<table border=\"1\" class=\"dataframe\">\n",
              "  <thead>\n",
              "    <tr style=\"text-align: right;\">\n",
              "      <th></th>\n",
              "      <th>personas</th>\n",
              "      <th>persona_id</th>\n",
              "      <th>facts</th>\n",
              "      <th>facts_embeddings</th>\n",
              "      <th>similar_personas</th>\n",
              "      <th>similar_facts</th>\n",
              "    </tr>\n",
              "  </thead>\n",
              "  <tbody>\n",
              "    <tr>\n",
              "      <th>2338</th>\n",
              "      <td>I don t work.\\nMy favorite drink is chocolate ...</td>\n",
              "      <td>259</td>\n",
              "      <td>I don t work</td>\n",
              "      <td>[-0.054426435, -0.03574246, 0.051799424, -0.03...</td>\n",
              "      <td>{0, 1, 2, 3, 4, 5, 6, 7, 8, 9, 10, 11, 12, 13,...</td>\n",
              "      <td>{I eat junk food, I am a senior citizen, I am ...</td>\n",
              "    </tr>\n",
              "    <tr>\n",
              "      <th>2339</th>\n",
              "      <td>I don t work.\\nMy favorite drink is chocolate ...</td>\n",
              "      <td>259</td>\n",
              "      <td>My favorite drink is chocolate milk</td>\n",
              "      <td>[-0.019659905, -0.05076409, 0.033380855, -0.01...</td>\n",
              "      <td>{0, 1, 2, 3, 4, 5, 6, 7, 8, 9, 10, 11, 12, 13,...</td>\n",
              "      <td>{I love to clean, I have a passion for god, I ...</td>\n",
              "    </tr>\n",
              "    <tr>\n",
              "      <th>2340</th>\n",
              "      <td>I don t work.\\nMy favorite drink is chocolate ...</td>\n",
              "      <td>259</td>\n",
              "      <td>I hate tacos</td>\n",
              "      <td>[-0.021873755, -0.015252045, 0.03355251, 0.009...</td>\n",
              "      <td>{2, 4, 7, 8, 9, 10, 11, 12, 19, 21, 29, 30, 31...</td>\n",
              "      <td>{I love mexican food, I am lactose intolerant,...</td>\n",
              "    </tr>\n",
              "    <tr>\n",
              "      <th>2341</th>\n",
              "      <td>I don t work.\\nMy favorite drink is chocolate ...</td>\n",
              "      <td>259</td>\n",
              "      <td>I like to swim</td>\n",
              "      <td>[-0.03467477, -0.049108848, 0.03294645, -0.005...</td>\n",
              "      <td>{0, 1, 2, 3, 4, 5, 6, 7, 8, 9, 10, 11, 12, 13,...</td>\n",
              "      <td>{I am a senior citizen, I am known as the iron...</td>\n",
              "    </tr>\n",
              "    <tr>\n",
              "      <th>2342</th>\n",
              "      <td>I don t work.\\nMy favorite drink is chocolate ...</td>\n",
              "      <td>259</td>\n",
              "      <td>I like to arm wrestle</td>\n",
              "      <td>[-0.07860201, -0.04728128, 0.024250073, -0.024...</td>\n",
              "      <td>{0, 2, 3, 4, 5, 6, 7, 8, 9, 10, 11, 12, 13, 14...</td>\n",
              "      <td>{I love to clean, I have a passion for god, I ...</td>\n",
              "    </tr>\n",
              "    <tr>\n",
              "      <th>2343</th>\n",
              "      <td>I don t work.\\nMy favorite drink is chocolate ...</td>\n",
              "      <td>259</td>\n",
              "      <td>I am a cartographer</td>\n",
              "      <td>[-0.02464995, -0.054552346, 0.052718308, -0.02...</td>\n",
              "      <td>{0, 2, 3, 5, 6, 7, 8, 9, 10, 11, 12, 13, 14, 1...</td>\n",
              "      <td>{I drive a jag, I drink beers and go to the cr...</td>\n",
              "    </tr>\n",
              "    <tr>\n",
              "      <th>2344</th>\n",
              "      <td>I don t work.\\nMy favorite drink is chocolate ...</td>\n",
              "      <td>259</td>\n",
              "      <td>I like to make bagels</td>\n",
              "      <td>[-0.049451966, -0.0043938835, 0.028330773, -0....</td>\n",
              "      <td>{0, 2, 3, 4, 5, 6, 7, 8, 9, 10, 11, 12, 13, 14...</td>\n",
              "      <td>{I love to clean, I eat junk food, I am known ...</td>\n",
              "    </tr>\n",
              "    <tr>\n",
              "      <th>2345</th>\n",
              "      <td>I don t work.\\nMy favorite drink is chocolate ...</td>\n",
              "      <td>259</td>\n",
              "      <td>I like to paint outdoors</td>\n",
              "      <td>[-0.0195053, -0.05657095, 0.058568057, -0.0060...</td>\n",
              "      <td>{1, 2, 3, 4, 5, 6, 7, 8, 10, 12, 13, 14, 15, 1...</td>\n",
              "      <td>{I love to clean, My hair is curly and dark, I...</td>\n",
              "    </tr>\n",
              "    <tr>\n",
              "      <th>2346</th>\n",
              "      <td>I don t work.\\nMy favorite drink is chocolate ...</td>\n",
              "      <td>259</td>\n",
              "      <td>I used to be a nurse</td>\n",
              "      <td>[-0.042443093, -0.020305213, 0.049738903, -0.0...</td>\n",
              "      <td>{0, 1, 2, 3, 5, 6, 7, 8, 10, 12, 14, 15, 17, 2...</td>\n",
              "      <td>{I just accepted a job at the elementary schoo...</td>\n",
              "    </tr>\n",
              "  </tbody>\n",
              "</table>\n",
              "</div>"
            ],
            "text/plain": [
              "                                               personas  persona_id  \\\n",
              "2338  I don t work.\\nMy favorite drink is chocolate ...         259   \n",
              "2339  I don t work.\\nMy favorite drink is chocolate ...         259   \n",
              "2340  I don t work.\\nMy favorite drink is chocolate ...         259   \n",
              "2341  I don t work.\\nMy favorite drink is chocolate ...         259   \n",
              "2342  I don t work.\\nMy favorite drink is chocolate ...         259   \n",
              "2343  I don t work.\\nMy favorite drink is chocolate ...         259   \n",
              "2344  I don t work.\\nMy favorite drink is chocolate ...         259   \n",
              "2345  I don t work.\\nMy favorite drink is chocolate ...         259   \n",
              "2346  I don t work.\\nMy favorite drink is chocolate ...         259   \n",
              "\n",
              "                                    facts  \\\n",
              "2338                         I don t work   \n",
              "2339  My favorite drink is chocolate milk   \n",
              "2340                         I hate tacos   \n",
              "2341                       I like to swim   \n",
              "2342                I like to arm wrestle   \n",
              "2343                  I am a cartographer   \n",
              "2344                I like to make bagels   \n",
              "2345             I like to paint outdoors   \n",
              "2346                 I used to be a nurse   \n",
              "\n",
              "                                       facts_embeddings  \\\n",
              "2338  [-0.054426435, -0.03574246, 0.051799424, -0.03...   \n",
              "2339  [-0.019659905, -0.05076409, 0.033380855, -0.01...   \n",
              "2340  [-0.021873755, -0.015252045, 0.03355251, 0.009...   \n",
              "2341  [-0.03467477, -0.049108848, 0.03294645, -0.005...   \n",
              "2342  [-0.07860201, -0.04728128, 0.024250073, -0.024...   \n",
              "2343  [-0.02464995, -0.054552346, 0.052718308, -0.02...   \n",
              "2344  [-0.049451966, -0.0043938835, 0.028330773, -0....   \n",
              "2345  [-0.0195053, -0.05657095, 0.058568057, -0.0060...   \n",
              "2346  [-0.042443093, -0.020305213, 0.049738903, -0.0...   \n",
              "\n",
              "                                       similar_personas  \\\n",
              "2338  {0, 1, 2, 3, 4, 5, 6, 7, 8, 9, 10, 11, 12, 13,...   \n",
              "2339  {0, 1, 2, 3, 4, 5, 6, 7, 8, 9, 10, 11, 12, 13,...   \n",
              "2340  {2, 4, 7, 8, 9, 10, 11, 12, 19, 21, 29, 30, 31...   \n",
              "2341  {0, 1, 2, 3, 4, 5, 6, 7, 8, 9, 10, 11, 12, 13,...   \n",
              "2342  {0, 2, 3, 4, 5, 6, 7, 8, 9, 10, 11, 12, 13, 14...   \n",
              "2343  {0, 2, 3, 5, 6, 7, 8, 9, 10, 11, 12, 13, 14, 1...   \n",
              "2344  {0, 2, 3, 4, 5, 6, 7, 8, 9, 10, 11, 12, 13, 14...   \n",
              "2345  {1, 2, 3, 4, 5, 6, 7, 8, 10, 12, 13, 14, 15, 1...   \n",
              "2346  {0, 1, 2, 3, 5, 6, 7, 8, 10, 12, 14, 15, 17, 2...   \n",
              "\n",
              "                                          similar_facts  \n",
              "2338  {I eat junk food, I am a senior citizen, I am ...  \n",
              "2339  {I love to clean, I have a passion for god, I ...  \n",
              "2340  {I love mexican food, I am lactose intolerant,...  \n",
              "2341  {I am a senior citizen, I am known as the iron...  \n",
              "2342  {I love to clean, I have a passion for god, I ...  \n",
              "2343  {I drive a jag, I drink beers and go to the cr...  \n",
              "2344  {I love to clean, I eat junk food, I am known ...  \n",
              "2345  {I love to clean, My hair is curly and dark, I...  \n",
              "2346  {I just accepted a job at the elementary schoo...  "
            ]
          },
          "execution_count": 71,
          "metadata": {},
          "output_type": "execute_result"
        }
      ],
      "source": [
        "data.loc[data['persona_id']==259]"
      ]
    },
    {
      "cell_type": "code",
      "execution_count": 8,
      "metadata": {
        "colab": {
          "base_uri": "https://localhost:8080/"
        },
        "id": "DYH4WuTFozSR",
        "outputId": "a37c5780-26ff-439d-8df8-de8641ee0d9d"
      },
      "outputs": [],
      "source": [
        "device = torch.device(\"cuda\" if torch.cuda.is_available() else \"cpu\")\n",
        "model = SentenceTransformer('BAAI/bge-small-en')\n",
        "model = model.to(device)"
      ]
    },
    {
      "cell_type": "code",
      "execution_count": 9,
      "metadata": {
        "colab": {
          "base_uri": "https://localhost:8080/"
        },
        "id": "irwj_6tjpr4s",
        "outputId": "83fedac8-ccda-47b0-ad50-a28ddcd8d0fe"
      },
      "outputs": [
        {
          "name": "stderr",
          "output_type": "stream",
          "text": [
            "100%|██████████| 80355/80355 [22:41<00:00, 59.00it/s]\n"
          ]
        }
      ],
      "source": [
        "facts_embeds = []\n",
        "for i in tqdm(data['facts']):\n",
        "   facts_embeds.append(model.encode(i))"
      ]
    },
    {
      "cell_type": "code",
      "execution_count": 10,
      "metadata": {},
      "outputs": [],
      "source": [
        "import pickle\n",
        "#with open('FINAL_facts_embeds.pkl', 'wb') as f:\n",
        " #   pickle.dump(facts_embeds, f)"
      ]
    },
    {
      "cell_type": "code",
      "execution_count": 11,
      "metadata": {},
      "outputs": [],
      "source": [
        "#with open('FINAL_facts_embeds.pkl', 'rb') as handle:\n",
        "  #  facts_embeds = pickle.load(handle)"
      ]
    },
    {
      "cell_type": "code",
      "execution_count": 12,
      "metadata": {
        "colab": {
          "base_uri": "https://localhost:8080/",
          "height": 141
        },
        "id": "3FHcIvBApue1",
        "outputId": "ee106fa4-8a39-47a1-d9b3-abb89b346532"
      },
      "outputs": [],
      "source": [
        "data['facts_embeddings'] = facts_embeds"
      ]
    },
    {
      "cell_type": "code",
      "execution_count": 13,
      "metadata": {},
      "outputs": [
        {
          "name": "stdout",
          "output_type": "stream",
          "text": [
            "[11064, 11065, 11066, 11067, 11068, 11069, 11070, 11071, 11072]\n"
          ]
        }
      ],
      "source": [
        "result = data[data['persona_id'] == 1230]\n",
        "\n",
        "ids = result.index.tolist()\n",
        "\n",
        "print(ids)"
      ]
    },
    {
      "cell_type": "code",
      "execution_count": 14,
      "metadata": {},
      "outputs": [],
      "source": [
        "data = data[:11073]"
      ]
    },
    {
      "cell_type": "code",
      "execution_count": 15,
      "metadata": {},
      "outputs": [
        {
          "data": {
            "text/html": [
              "<div>\n",
              "<style scoped>\n",
              "    .dataframe tbody tr th:only-of-type {\n",
              "        vertical-align: middle;\n",
              "    }\n",
              "\n",
              "    .dataframe tbody tr th {\n",
              "        vertical-align: top;\n",
              "    }\n",
              "\n",
              "    .dataframe thead th {\n",
              "        text-align: right;\n",
              "    }\n",
              "</style>\n",
              "<table border=\"1\" class=\"dataframe\">\n",
              "  <thead>\n",
              "    <tr style=\"text-align: right;\">\n",
              "      <th></th>\n",
              "      <th>personas</th>\n",
              "      <th>persona_id</th>\n",
              "      <th>facts</th>\n",
              "      <th>facts_embeddings</th>\n",
              "    </tr>\n",
              "  </thead>\n",
              "  <tbody>\n",
              "    <tr>\n",
              "      <th>0</th>\n",
              "      <td>I am 32.\\nI do not want a job.\\nI play video g...</td>\n",
              "      <td>0</td>\n",
              "      <td>I am 32</td>\n",
              "      <td>[-0.043408405, -0.039896216, 0.004573693, -0.0...</td>\n",
              "    </tr>\n",
              "    <tr>\n",
              "      <th>1</th>\n",
              "      <td>I am 32.\\nI do not want a job.\\nI play video g...</td>\n",
              "      <td>0</td>\n",
              "      <td>I do not want a job</td>\n",
              "      <td>[-0.033704814, -0.019891072, 0.009261265, -0.0...</td>\n",
              "    </tr>\n",
              "    <tr>\n",
              "      <th>2</th>\n",
              "      <td>I am 32.\\nI do not want a job.\\nI play video g...</td>\n",
              "      <td>0</td>\n",
              "      <td>I play video games all day</td>\n",
              "      <td>[-0.02727933, 0.011558705, 0.029788923, -0.043...</td>\n",
              "    </tr>\n",
              "    <tr>\n",
              "      <th>3</th>\n",
              "      <td>I am 32.\\nI do not want a job.\\nI play video g...</td>\n",
              "      <td>0</td>\n",
              "      <td>I still live at home with my parents</td>\n",
              "      <td>[0.0048993924, 0.004853039, 0.04816079, -0.036...</td>\n",
              "    </tr>\n",
              "    <tr>\n",
              "      <th>4</th>\n",
              "      <td>I am 32.\\nI do not want a job.\\nI play video g...</td>\n",
              "      <td>0</td>\n",
              "      <td>My favorite drink is iced coffee</td>\n",
              "      <td>[-0.05509237, -0.028940937, 0.029442051, -0.00...</td>\n",
              "    </tr>\n",
              "  </tbody>\n",
              "</table>\n",
              "</div>"
            ],
            "text/plain": [
              "                                            personas  persona_id  \\\n",
              "0  I am 32.\\nI do not want a job.\\nI play video g...           0   \n",
              "1  I am 32.\\nI do not want a job.\\nI play video g...           0   \n",
              "2  I am 32.\\nI do not want a job.\\nI play video g...           0   \n",
              "3  I am 32.\\nI do not want a job.\\nI play video g...           0   \n",
              "4  I am 32.\\nI do not want a job.\\nI play video g...           0   \n",
              "\n",
              "                                  facts  \\\n",
              "0                               I am 32   \n",
              "1                   I do not want a job   \n",
              "2            I play video games all day   \n",
              "3  I still live at home with my parents   \n",
              "4      My favorite drink is iced coffee   \n",
              "\n",
              "                                    facts_embeddings  \n",
              "0  [-0.043408405, -0.039896216, 0.004573693, -0.0...  \n",
              "1  [-0.033704814, -0.019891072, 0.009261265, -0.0...  \n",
              "2  [-0.02727933, 0.011558705, 0.029788923, -0.043...  \n",
              "3  [0.0048993924, 0.004853039, 0.04816079, -0.036...  \n",
              "4  [-0.05509237, -0.028940937, 0.029442051, -0.00...  "
            ]
          },
          "execution_count": 15,
          "metadata": {},
          "output_type": "execute_result"
        }
      ],
      "source": [
        "data.head()"
      ]
    },
    {
      "cell_type": "code",
      "execution_count": 16,
      "metadata": {
        "id": "B4AQkedlxogn"
      },
      "outputs": [],
      "source": [
        "def calculate_similarity_matrix(data):\n",
        "    num_facts = len(data)\n",
        "    similarity_matrix = np.zeros((num_facts, num_facts))\n",
        "    cos = torch.nn.CosineSimilarity(dim=0, eps=1e-6)\n",
        "    b =np.stack(data['facts_embeddings'].values)\n",
        "    b_tensor = torch.tensor(b, dtype=torch.float32)\n",
        "\n",
        "    for i in tqdm(range(num_facts)):\n",
        "        for j in range(i+1, num_facts):\n",
        "            similarity = cos(b_tensor[i], b_tensor[j])\n",
        "            similarity_matrix[i][j] = similarity\n",
        "    \n",
        "    return similarity_matrix"
      ]
    },
    {
      "cell_type": "code",
      "execution_count": 47,
      "metadata": {
        "colab": {
          "base_uri": "https://localhost:8080/"
        },
        "id": "seJ-TVrhMwf5",
        "outputId": "d5512417-39d5-40c6-d858-add0aff7427e"
      },
      "outputs": [
        {
          "name": "stderr",
          "output_type": "stream",
          "text": [
            "100%|██████████| 11073/11073 [16:18<00:00, 11.31it/s] \n"
          ]
        }
      ],
      "source": [
        "fact_similarity_matrix = calculate_similarity_matrix(data)"
      ]
    },
    {
      "cell_type": "code",
      "execution_count": 48,
      "metadata": {},
      "outputs": [
        {
          "data": {
            "text/plain": [
              "array([[0.        , 0.83585423, 0.84408087, ..., 0.84687966, 0.80623251,\n",
              "        0.79523307],\n",
              "       [0.        , 0.        , 0.8053214 , ..., 0.8323437 , 0.81298524,\n",
              "        0.81334984],\n",
              "       [0.        , 0.        , 0.        , ..., 0.80795217, 0.76491904,\n",
              "        0.76627737],\n",
              "       ...,\n",
              "       [0.        , 0.        , 0.        , ..., 0.        , 0.81111515,\n",
              "        0.89708626],\n",
              "       [0.        , 0.        , 0.        , ..., 0.        , 0.        ,\n",
              "        0.85013247],\n",
              "       [0.        , 0.        , 0.        , ..., 0.        , 0.        ,\n",
              "        0.        ]])"
            ]
          },
          "execution_count": 48,
          "metadata": {},
          "output_type": "execute_result"
        }
      ],
      "source": [
        "fact_similarity_matrix"
      ]
    },
    {
      "cell_type": "code",
      "execution_count": 49,
      "metadata": {},
      "outputs": [],
      "source": [
        "fact_similarity_matrix.dump('FINAL_FINAL_fact_similarity_matrix.pkl')"
      ]
    },
    {
      "cell_type": "code",
      "execution_count": 51,
      "metadata": {},
      "outputs": [],
      "source": [
        "n = fact_similarity_matrix.shape[0] \n",
        "\n",
        "for i in range(n):\n",
        "    for j in range(i):\n",
        "        fact_similarity_matrix[i, j] = fact_similarity_matrix[j, i]"
      ]
    },
    {
      "cell_type": "code",
      "execution_count": 52,
      "metadata": {},
      "outputs": [
        {
          "data": {
            "text/plain": [
              "array([[0.        , 0.83585423, 0.84408087, ..., 0.84687966, 0.80623251,\n",
              "        0.79523307],\n",
              "       [0.83585423, 0.        , 0.8053214 , ..., 0.8323437 , 0.81298524,\n",
              "        0.81334984],\n",
              "       [0.84408087, 0.8053214 , 0.        , ..., 0.80795217, 0.76491904,\n",
              "        0.76627737],\n",
              "       ...,\n",
              "       [0.84687966, 0.8323437 , 0.80795217, ..., 0.        , 0.81111515,\n",
              "        0.89708626],\n",
              "       [0.80623251, 0.81298524, 0.76491904, ..., 0.81111515, 0.        ,\n",
              "        0.85013247],\n",
              "       [0.79523307, 0.81334984, 0.76627737, ..., 0.89708626, 0.85013247,\n",
              "        0.        ]])"
            ]
          },
          "execution_count": 52,
          "metadata": {},
          "output_type": "execute_result"
        }
      ],
      "source": [
        "fact_similarity_matrix"
      ]
    },
    {
      "cell_type": "code",
      "execution_count": 53,
      "metadata": {
        "id": "3sKfCrbSyAuL"
      },
      "outputs": [],
      "source": [
        "data['similar_personas'] = [[] for _ in range(len(data))]\n",
        "data['similar_facts'] = [[] for _ in range(len(data))]"
      ]
    },
    {
      "cell_type": "code",
      "execution_count": 142,
      "metadata": {
        "id": "lvc3WUyvRFCc"
      },
      "outputs": [
        {
          "name": "stderr",
          "output_type": "stream",
          "text": [
            "100%|██████████| 11073/11073 [00:17<00:00, 622.04it/s]\n"
          ]
        }
      ],
      "source": [
        "for i in tqdm(range(len(data))):\n",
        "    similar_indices = [j for j in range(len(data)) if fact_similarity_matrix[i][j] > 0.93 and i != j]\n",
        "    data.at[i, 'similar_facts'] = list(set(data['facts'].iloc[similar_indices]))"
      ]
    },
    {
      "cell_type": "code",
      "execution_count": 143,
      "metadata": {
        "id": "HIcw2cFYOEqi"
      },
      "outputs": [
        {
          "name": "stderr",
          "output_type": "stream",
          "text": [
            "100%|██████████| 11073/11073 [00:28<00:00, 382.70it/s]\n"
          ]
        }
      ],
      "source": [
        "for i in tqdm(range(len(data))):\n",
        "    similar_indices = [j for j in range(len(data)) if fact_similarity_matrix[i][j] > 0.93 and i != j]\n",
        "    data.at[i, 'similar_personas'] = list((set(data['persona_id'].iloc[similar_indices])))"
      ]
    },
    {
      "cell_type": "code",
      "execution_count": 144,
      "metadata": {
        "id": "4tc-avd0LOd0"
      },
      "outputs": [
        {
          "data": {
            "text/html": [
              "<div>\n",
              "<style scoped>\n",
              "    .dataframe tbody tr th:only-of-type {\n",
              "        vertical-align: middle;\n",
              "    }\n",
              "\n",
              "    .dataframe tbody tr th {\n",
              "        vertical-align: top;\n",
              "    }\n",
              "\n",
              "    .dataframe thead th {\n",
              "        text-align: right;\n",
              "    }\n",
              "</style>\n",
              "<table border=\"1\" class=\"dataframe\">\n",
              "  <thead>\n",
              "    <tr style=\"text-align: right;\">\n",
              "      <th></th>\n",
              "      <th>personas</th>\n",
              "      <th>persona_id</th>\n",
              "      <th>facts</th>\n",
              "      <th>facts_embeddings</th>\n",
              "      <th>similar_personas</th>\n",
              "      <th>similar_facts</th>\n",
              "    </tr>\n",
              "  </thead>\n",
              "  <tbody>\n",
              "    <tr>\n",
              "      <th>0</th>\n",
              "      <td>I am 32.\\nI do not want a job.\\nI play video g...</td>\n",
              "      <td>0</td>\n",
              "      <td>I am 32</td>\n",
              "      <td>[-0.043408405, -0.039896216, 0.004573693, -0.0...</td>\n",
              "      <td>[1, 2, 649, 534, 422, 1080, 196, 197, 199, 75,...</td>\n",
              "      <td>[I am a 30 year old female, I m a 30 year old ...</td>\n",
              "    </tr>\n",
              "    <tr>\n",
              "      <th>1</th>\n",
              "      <td>I am 32.\\nI do not want a job.\\nI play video g...</td>\n",
              "      <td>0</td>\n",
              "      <td>I do not want a job</td>\n",
              "      <td>[-0.033704814, -0.019891072, 0.009261265, -0.0...</td>\n",
              "      <td>[1, 2, 354, 802, 648, 531, 504, 1080, 892, 862]</td>\n",
              "      <td>[I do not have a job, I do not like my job, I ...</td>\n",
              "    </tr>\n",
              "    <tr>\n",
              "      <th>2</th>\n",
              "      <td>I am 32.\\nI do not want a job.\\nI play video g...</td>\n",
              "      <td>0</td>\n",
              "      <td>I play video games all day</td>\n",
              "      <td>[-0.02727933, 0.011558705, 0.029788923, -0.043...</td>\n",
              "      <td>[1, 2, 641, 134, 135, 136, 137, 264, 902, 909,...</td>\n",
              "      <td>[I like video games, I enjoy video games, I pl...</td>\n",
              "    </tr>\n",
              "    <tr>\n",
              "      <th>3</th>\n",
              "      <td>I am 32.\\nI do not want a job.\\nI play video g...</td>\n",
              "      <td>0</td>\n",
              "      <td>I still live at home with my parents</td>\n",
              "      <td>[0.0048993924, 0.004853039, 0.04816079, -0.036...</td>\n",
              "      <td>[1, 2, 1028, 389, 1029, 263, 266, 522, 269, 14...</td>\n",
              "      <td>[I live at home with my dad and brother, I am ...</td>\n",
              "    </tr>\n",
              "    <tr>\n",
              "      <th>4</th>\n",
              "      <td>I am 32.\\nI do not want a job.\\nI play video g...</td>\n",
              "      <td>0</td>\n",
              "      <td>My favorite drink is iced coffee</td>\n",
              "      <td>[-0.05509237, -0.028940937, 0.029442051, -0.00...</td>\n",
              "      <td>[96, 514, 419, 421, 1029, 1159, 621, 1211, 496...</td>\n",
              "      <td>[I love coffee with cream, My favorite drink i...</td>\n",
              "    </tr>\n",
              "  </tbody>\n",
              "</table>\n",
              "</div>"
            ],
            "text/plain": [
              "                                            personas  persona_id  \\\n",
              "0  I am 32.\\nI do not want a job.\\nI play video g...           0   \n",
              "1  I am 32.\\nI do not want a job.\\nI play video g...           0   \n",
              "2  I am 32.\\nI do not want a job.\\nI play video g...           0   \n",
              "3  I am 32.\\nI do not want a job.\\nI play video g...           0   \n",
              "4  I am 32.\\nI do not want a job.\\nI play video g...           0   \n",
              "\n",
              "                                  facts  \\\n",
              "0                               I am 32   \n",
              "1                   I do not want a job   \n",
              "2            I play video games all day   \n",
              "3  I still live at home with my parents   \n",
              "4      My favorite drink is iced coffee   \n",
              "\n",
              "                                    facts_embeddings  \\\n",
              "0  [-0.043408405, -0.039896216, 0.004573693, -0.0...   \n",
              "1  [-0.033704814, -0.019891072, 0.009261265, -0.0...   \n",
              "2  [-0.02727933, 0.011558705, 0.029788923, -0.043...   \n",
              "3  [0.0048993924, 0.004853039, 0.04816079, -0.036...   \n",
              "4  [-0.05509237, -0.028940937, 0.029442051, -0.00...   \n",
              "\n",
              "                                    similar_personas  \\\n",
              "0  [1, 2, 649, 534, 422, 1080, 196, 197, 199, 75,...   \n",
              "1    [1, 2, 354, 802, 648, 531, 504, 1080, 892, 862]   \n",
              "2  [1, 2, 641, 134, 135, 136, 137, 264, 902, 909,...   \n",
              "3  [1, 2, 1028, 389, 1029, 263, 266, 522, 269, 14...   \n",
              "4  [96, 514, 419, 421, 1029, 1159, 621, 1211, 496...   \n",
              "\n",
              "                                       similar_facts  \n",
              "0  [I am a 30 year old female, I m a 30 year old ...  \n",
              "1  [I do not have a job, I do not like my job, I ...  \n",
              "2  [I like video games, I enjoy video games, I pl...  \n",
              "3  [I live at home with my dad and brother, I am ...  \n",
              "4  [I love coffee with cream, My favorite drink i...  "
            ]
          },
          "execution_count": 144,
          "metadata": {},
          "output_type": "execute_result"
        }
      ],
      "source": [
        "data.head()"
      ]
    },
    {
      "cell_type": "code",
      "execution_count": 145,
      "metadata": {
        "id": "noIZF9zxwULl"
      },
      "outputs": [],
      "source": [
        "flattened_data = []"
      ]
    },
    {
      "cell_type": "code",
      "execution_count": 146,
      "metadata": {
        "id": "vHAa042FLj6t"
      },
      "outputs": [
        {
          "data": {
            "text/html": [
              "<div>\n",
              "<style scoped>\n",
              "    .dataframe tbody tr th:only-of-type {\n",
              "        vertical-align: middle;\n",
              "    }\n",
              "\n",
              "    .dataframe tbody tr th {\n",
              "        vertical-align: top;\n",
              "    }\n",
              "\n",
              "    .dataframe thead th {\n",
              "        text-align: right;\n",
              "    }\n",
              "</style>\n",
              "<table border=\"1\" class=\"dataframe\">\n",
              "  <thead>\n",
              "    <tr style=\"text-align: right;\">\n",
              "      <th></th>\n",
              "      <th>persona_id</th>\n",
              "      <th>personas</th>\n",
              "      <th>facts</th>\n",
              "      <th>facts_embeddings</th>\n",
              "      <th>similar_personas</th>\n",
              "    </tr>\n",
              "  </thead>\n",
              "  <tbody>\n",
              "    <tr>\n",
              "      <th>0</th>\n",
              "      <td>0</td>\n",
              "      <td>[I am 32.\\nI do not want a job.\\nI play video ...</td>\n",
              "      <td>I am 32, I do not want a job, I play video gam...</td>\n",
              "      <td>[[-0.043408405, -0.039896216, 0.004573693, -0....</td>\n",
              "      <td>[1, 2, 14, 16, 57, 62, 75, 87, 96, 97, 100, 11...</td>\n",
              "    </tr>\n",
              "    <tr>\n",
              "      <th>1</th>\n",
              "      <td>1</td>\n",
              "      <td>[I am 32.\\nI play video games all day.\\nI stil...</td>\n",
              "      <td>I am 32, I play video games all day, I still l...</td>\n",
              "      <td>[[-0.043408405, -0.039896216, 0.004573693, -0....</td>\n",
              "      <td>[0, 1, 2, 11, 14, 16, 27, 57, 62, 70, 75, 76, ...</td>\n",
              "    </tr>\n",
              "    <tr>\n",
              "      <th>2</th>\n",
              "      <td>2</td>\n",
              "      <td>[I am 32.\\nI play video games all day.\\nI stil...</td>\n",
              "      <td>I am 32, I play video games all day, I still l...</td>\n",
              "      <td>[[-0.043408405, -0.039896216, 0.004573693, -0....</td>\n",
              "      <td>[0, 1, 14, 16, 25, 26, 27, 28, 35, 57, 62, 65,...</td>\n",
              "    </tr>\n",
              "    <tr>\n",
              "      <th>3</th>\n",
              "      <td>3</td>\n",
              "      <td>[I write.\\nI work at mcdonald s.\\nI watch yout...</td>\n",
              "      <td>I write, I work at mcdonald s, I watch youtube...</td>\n",
              "      <td>[[-0.052719686, -0.04074392, 0.03911773, -0.04...</td>\n",
              "      <td>[35, 39, 41, 45, 92, 95, 98, 99, 158, 159, 160...</td>\n",
              "    </tr>\n",
              "    <tr>\n",
              "      <th>4</th>\n",
              "      <td>4</td>\n",
              "      <td>[I am bald.\\nI like to swim.\\nMy favorite drin...</td>\n",
              "      <td>I am bald, I like to swim, My favorite drink i...</td>\n",
              "      <td>[[-0.024434138, -0.024031263, 0.04923339, -0.0...</td>\n",
              "      <td>[23, 35, 52, 69, 92, 96, 104, 105, 110, 115, 1...</td>\n",
              "    </tr>\n",
              "  </tbody>\n",
              "</table>\n",
              "</div>"
            ],
            "text/plain": [
              "   persona_id                                           personas  \\\n",
              "0           0  [I am 32.\\nI do not want a job.\\nI play video ...   \n",
              "1           1  [I am 32.\\nI play video games all day.\\nI stil...   \n",
              "2           2  [I am 32.\\nI play video games all day.\\nI stil...   \n",
              "3           3  [I write.\\nI work at mcdonald s.\\nI watch yout...   \n",
              "4           4  [I am bald.\\nI like to swim.\\nMy favorite drin...   \n",
              "\n",
              "                                               facts  \\\n",
              "0  I am 32, I do not want a job, I play video gam...   \n",
              "1  I am 32, I play video games all day, I still l...   \n",
              "2  I am 32, I play video games all day, I still l...   \n",
              "3  I write, I work at mcdonald s, I watch youtube...   \n",
              "4  I am bald, I like to swim, My favorite drink i...   \n",
              "\n",
              "                                    facts_embeddings  \\\n",
              "0  [[-0.043408405, -0.039896216, 0.004573693, -0....   \n",
              "1  [[-0.043408405, -0.039896216, 0.004573693, -0....   \n",
              "2  [[-0.043408405, -0.039896216, 0.004573693, -0....   \n",
              "3  [[-0.052719686, -0.04074392, 0.03911773, -0.04...   \n",
              "4  [[-0.024434138, -0.024031263, 0.04923339, -0.0...   \n",
              "\n",
              "                                    similar_personas  \n",
              "0  [1, 2, 14, 16, 57, 62, 75, 87, 96, 97, 100, 11...  \n",
              "1  [0, 1, 2, 11, 14, 16, 27, 57, 62, 70, 75, 76, ...  \n",
              "2  [0, 1, 14, 16, 25, 26, 27, 28, 35, 57, 62, 65,...  \n",
              "3  [35, 39, 41, 45, 92, 95, 98, 99, 158, 159, 160...  \n",
              "4  [23, 35, 52, 69, 92, 96, 104, 105, 110, 115, 1...  "
            ]
          },
          "execution_count": 146,
          "metadata": {},
          "output_type": "execute_result"
        }
      ],
      "source": [
        "flattened_data = data.groupby('persona_id').agg({\n",
        "    'personas': lambda x: list(x),\n",
        "    'facts': lambda x: ', '.join(x),\n",
        "    'facts_embeddings': lambda x: list(x),\n",
        "    'similar_personas': lambda x: sorted(list(set(sum(x.tolist(), []))))\n",
        "}).reset_index()\n",
        "\n",
        "flattened_data.head()"
      ]
    },
    {
      "cell_type": "code",
      "execution_count": 147,
      "metadata": {
        "id": "63kfye9aPDj4"
      },
      "outputs": [],
      "source": [
        "flattened_data['persona'] = data['personas']\n",
        "\n",
        "pers_emb = flattened_data[\"facts_embeddings\"].apply(lambda x: np.sum(list(x), axis=0)).reset_index()\n",
        "\n",
        "flattened_data['persona_embeddings'] = pers_emb['facts_embeddings']"
      ]
    },
    {
      "cell_type": "code",
      "execution_count": 148,
      "metadata": {
        "id": "Y-nLHybwOG_9"
      },
      "outputs": [
        {
          "data": {
            "text/html": [
              "<div>\n",
              "<style scoped>\n",
              "    .dataframe tbody tr th:only-of-type {\n",
              "        vertical-align: middle;\n",
              "    }\n",
              "\n",
              "    .dataframe tbody tr th {\n",
              "        vertical-align: top;\n",
              "    }\n",
              "\n",
              "    .dataframe thead th {\n",
              "        text-align: right;\n",
              "    }\n",
              "</style>\n",
              "<table border=\"1\" class=\"dataframe\">\n",
              "  <thead>\n",
              "    <tr style=\"text-align: right;\">\n",
              "      <th></th>\n",
              "      <th>persona_id</th>\n",
              "      <th>personas</th>\n",
              "      <th>facts</th>\n",
              "      <th>facts_embeddings</th>\n",
              "      <th>similar_personas</th>\n",
              "      <th>persona</th>\n",
              "      <th>persona_embeddings</th>\n",
              "    </tr>\n",
              "  </thead>\n",
              "  <tbody>\n",
              "    <tr>\n",
              "      <th>0</th>\n",
              "      <td>0</td>\n",
              "      <td>[I am 32.\\nI do not want a job.\\nI play video ...</td>\n",
              "      <td>I am 32, I do not want a job, I play video gam...</td>\n",
              "      <td>[[-0.043408405, -0.039896216, 0.004573693, -0....</td>\n",
              "      <td>[1, 2, 14, 16, 57, 62, 75, 87, 96, 97, 100, 11...</td>\n",
              "      <td>I am 32.\\nI do not want a job.\\nI play video g...</td>\n",
              "      <td>[-0.27412432, -0.19816133, 0.18661429, -0.2283...</td>\n",
              "    </tr>\n",
              "    <tr>\n",
              "      <th>1</th>\n",
              "      <td>1</td>\n",
              "      <td>[I am 32.\\nI play video games all day.\\nI stil...</td>\n",
              "      <td>I am 32, I play video games all day, I still l...</td>\n",
              "      <td>[[-0.043408405, -0.039896216, 0.004573693, -0....</td>\n",
              "      <td>[0, 1, 2, 11, 14, 16, 27, 57, 62, 70, 75, 76, ...</td>\n",
              "      <td>I am 32.\\nI do not want a job.\\nI play video g...</td>\n",
              "      <td>[-0.27595556, -0.19046049, 0.36472562, -0.1551...</td>\n",
              "    </tr>\n",
              "    <tr>\n",
              "      <th>2</th>\n",
              "      <td>2</td>\n",
              "      <td>[I am 32.\\nI play video games all day.\\nI stil...</td>\n",
              "      <td>I am 32, I play video games all day, I still l...</td>\n",
              "      <td>[[-0.043408405, -0.039896216, 0.004573693, -0....</td>\n",
              "      <td>[0, 1, 14, 16, 25, 26, 27, 28, 35, 57, 62, 65,...</td>\n",
              "      <td>I am 32.\\nI do not want a job.\\nI play video g...</td>\n",
              "      <td>[-0.3358081, -0.24885227, 0.2707594, -0.333563...</td>\n",
              "    </tr>\n",
              "    <tr>\n",
              "      <th>3</th>\n",
              "      <td>3</td>\n",
              "      <td>[I write.\\nI work at mcdonald s.\\nI watch yout...</td>\n",
              "      <td>I write, I work at mcdonald s, I watch youtube...</td>\n",
              "      <td>[[-0.052719686, -0.04074392, 0.03911773, -0.04...</td>\n",
              "      <td>[35, 39, 41, 45, 92, 95, 98, 99, 158, 159, 160...</td>\n",
              "      <td>I am 32.\\nI do not want a job.\\nI play video g...</td>\n",
              "      <td>[-0.34644818, -0.32542628, 0.3416062, -0.24792...</td>\n",
              "    </tr>\n",
              "    <tr>\n",
              "      <th>4</th>\n",
              "      <td>4</td>\n",
              "      <td>[I am bald.\\nI like to swim.\\nMy favorite drin...</td>\n",
              "      <td>I am bald, I like to swim, My favorite drink i...</td>\n",
              "      <td>[[-0.024434138, -0.024031263, 0.04923339, -0.0...</td>\n",
              "      <td>[23, 35, 52, 69, 92, 96, 104, 105, 110, 115, 1...</td>\n",
              "      <td>I am 32.\\nI do not want a job.\\nI play video g...</td>\n",
              "      <td>[-0.2633983, -0.20231283, 0.28170836, -0.11812...</td>\n",
              "    </tr>\n",
              "  </tbody>\n",
              "</table>\n",
              "</div>"
            ],
            "text/plain": [
              "   persona_id                                           personas  \\\n",
              "0           0  [I am 32.\\nI do not want a job.\\nI play video ...   \n",
              "1           1  [I am 32.\\nI play video games all day.\\nI stil...   \n",
              "2           2  [I am 32.\\nI play video games all day.\\nI stil...   \n",
              "3           3  [I write.\\nI work at mcdonald s.\\nI watch yout...   \n",
              "4           4  [I am bald.\\nI like to swim.\\nMy favorite drin...   \n",
              "\n",
              "                                               facts  \\\n",
              "0  I am 32, I do not want a job, I play video gam...   \n",
              "1  I am 32, I play video games all day, I still l...   \n",
              "2  I am 32, I play video games all day, I still l...   \n",
              "3  I write, I work at mcdonald s, I watch youtube...   \n",
              "4  I am bald, I like to swim, My favorite drink i...   \n",
              "\n",
              "                                    facts_embeddings  \\\n",
              "0  [[-0.043408405, -0.039896216, 0.004573693, -0....   \n",
              "1  [[-0.043408405, -0.039896216, 0.004573693, -0....   \n",
              "2  [[-0.043408405, -0.039896216, 0.004573693, -0....   \n",
              "3  [[-0.052719686, -0.04074392, 0.03911773, -0.04...   \n",
              "4  [[-0.024434138, -0.024031263, 0.04923339, -0.0...   \n",
              "\n",
              "                                    similar_personas  \\\n",
              "0  [1, 2, 14, 16, 57, 62, 75, 87, 96, 97, 100, 11...   \n",
              "1  [0, 1, 2, 11, 14, 16, 27, 57, 62, 70, 75, 76, ...   \n",
              "2  [0, 1, 14, 16, 25, 26, 27, 28, 35, 57, 62, 65,...   \n",
              "3  [35, 39, 41, 45, 92, 95, 98, 99, 158, 159, 160...   \n",
              "4  [23, 35, 52, 69, 92, 96, 104, 105, 110, 115, 1...   \n",
              "\n",
              "                                             persona  \\\n",
              "0  I am 32.\\nI do not want a job.\\nI play video g...   \n",
              "1  I am 32.\\nI do not want a job.\\nI play video g...   \n",
              "2  I am 32.\\nI do not want a job.\\nI play video g...   \n",
              "3  I am 32.\\nI do not want a job.\\nI play video g...   \n",
              "4  I am 32.\\nI do not want a job.\\nI play video g...   \n",
              "\n",
              "                                  persona_embeddings  \n",
              "0  [-0.27412432, -0.19816133, 0.18661429, -0.2283...  \n",
              "1  [-0.27595556, -0.19046049, 0.36472562, -0.1551...  \n",
              "2  [-0.3358081, -0.24885227, 0.2707594, -0.333563...  \n",
              "3  [-0.34644818, -0.32542628, 0.3416062, -0.24792...  \n",
              "4  [-0.2633983, -0.20231283, 0.28170836, -0.11812...  "
            ]
          },
          "execution_count": 148,
          "metadata": {},
          "output_type": "execute_result"
        }
      ],
      "source": [
        "flattened_data.head()"
      ]
    },
    {
      "cell_type": "code",
      "execution_count": 149,
      "metadata": {},
      "outputs": [],
      "source": [
        "def calculate_similarity_matrix(flattened_data):\n",
        "    num_facts = len(flattened_data)\n",
        "    similarity_matrix = np.zeros((num_facts, num_facts))\n",
        "    cos = torch.nn.CosineSimilarity(dim=0, eps=1e-6)\n",
        "    b =np.stack(flattened_data['persona_embeddings'].values)\n",
        "    b_tensor = torch.tensor(b, dtype=torch.float32)\n",
        "\n",
        "    for i in tqdm(range(num_facts)):\n",
        "      for j in flattened_data['similar_personas'][i]:\n",
        "        similarity = cos(b_tensor[i], b_tensor[j])\n",
        "        similarity_matrix[i][j] = similarity\n",
        "\n",
        "    flattened_data['top_similar_personas'] = [[] for _ in range(num_facts)]\n",
        "\n",
        "    return similarity_matrix"
      ]
    },
    {
      "cell_type": "code",
      "execution_count": 150,
      "metadata": {
        "id": "lMA9z2fxQY2N"
      },
      "outputs": [
        {
          "name": "stderr",
          "output_type": "stream",
          "text": [
            "100%|██████████| 1231/1231 [00:04<00:00, 246.25it/s]\n"
          ]
        }
      ],
      "source": [
        "persona_similarity_matrix = calculate_similarity_matrix(flattened_data)"
      ]
    },
    {
      "cell_type": "code",
      "execution_count": 151,
      "metadata": {},
      "outputs": [],
      "source": [
        "n = persona_similarity_matrix.shape[0] \n",
        "\n",
        "for i in range(n):\n",
        "    for j in range(i):\n",
        "        persona_similarity_matrix[i, j] = persona_similarity_matrix[j, i]"
      ]
    },
    {
      "cell_type": "code",
      "execution_count": 186,
      "metadata": {
        "id": "xNd_BGekQkRk"
      },
      "outputs": [
        {
          "name": "stderr",
          "output_type": "stream",
          "text": [
            "100%|██████████| 1231/1231 [00:00<00:00, 4418.08it/s]\n"
          ]
        }
      ],
      "source": [
        "for i in tqdm(range(len(flattened_data))):\n",
        "    similar_indices = [j for j in range(len(flattened_data)) if persona_similarity_matrix[i][j] > 0.985 and i != j]\n",
        "    flattened_data.at[i, 'top_similar_personas'] = list(set(flattened_data['persona_id'].iloc[similar_indices]))"
      ]
    },
    {
      "cell_type": "code",
      "execution_count": 187,
      "metadata": {
        "id": "Y_5958NiQsgd"
      },
      "outputs": [
        {
          "name": "stdout",
          "output_type": "stream",
          "text": [
            "Input:  I am 32.\n",
            "I do not want a job.\n",
            "I play video games all day.\n",
            "I still live at home with my parents.My favorite drink is iced coffee.\n",
            "I have a black belt in karate.\n",
            "I m in a jazz band and play the saxophone.\n",
            "I vacation along lake michigan every summer. \n",
            "\n",
            "\n",
            "Similar:  I like jazz.\n",
            "I like victorian things.\n",
            "I am a romantic.\n",
            "I collect dolls.Both my moms tell me they love me when i call them.\n",
            "I live in chicago.\n",
            "I have three dogs and two cats.\n",
            "I like to use a lot of exclamation marks when i type.\n",
            "Playing quake on slackware linux makes me happy.\n",
            "\n",
            "Similar:  I am 32.\n",
            "I do not want a job.\n",
            "I play video games all day.\n",
            "I still live at home with my parents.My favorite drink is iced coffee.\n",
            "I have a black belt in karate.\n",
            "I m in a jazz band and play the saxophone.\n",
            "I vacation along lake michigan every summer.\n",
            "\n",
            "Similar:  I am vegan.\n",
            "My favorite band is muse.\n",
            "I work at walmart as a stocker.\n",
            "My father is a mechanic.I love to chat with my friends.\n",
            "I like to go shopping with my daughters.\n",
            "I love kids and dogs.\n",
            "I like to cook.\n",
            "I am a foodie.\n",
            "\n",
            "Similar:  I am male.\n",
            "I live to not disappoint my loved ones.\n",
            "I am unsociable.\n",
            "I am a jack of all , master of none.\n",
            "My weakness are sweets.My favorite meal is steak.\n",
            "I always travel alone.\n",
            "I only sleep 3 hours a day.\n",
            "I am incredibly smart.\n",
            "I have no parents or siblings.\n",
            "----\n"
          ]
        }
      ],
      "source": [
        "unique = []\n",
        "for i, row in flattened_data.iterrows():\n",
        "  if row['persona_id'] == 0:\n",
        "    print('Input: ', row['persona'], '\\n')\n",
        "    for id in row['top_similar_personas']:\n",
        "      print(\"\\nSimilar: \", flattened_data['persona'][id])\n",
        "    print('----')"
      ]
    },
    {
      "cell_type": "code",
      "execution_count": 188,
      "metadata": {
        "id": "d4NQfb-CV4QV"
      },
      "outputs": [
        {
          "data": {
            "text/html": [
              "<div>\n",
              "<style scoped>\n",
              "    .dataframe tbody tr th:only-of-type {\n",
              "        vertical-align: middle;\n",
              "    }\n",
              "\n",
              "    .dataframe tbody tr th {\n",
              "        vertical-align: top;\n",
              "    }\n",
              "\n",
              "    .dataframe thead th {\n",
              "        text-align: right;\n",
              "    }\n",
              "</style>\n",
              "<table border=\"1\" class=\"dataframe\">\n",
              "  <thead>\n",
              "    <tr style=\"text-align: right;\">\n",
              "      <th></th>\n",
              "      <th>persona_id</th>\n",
              "      <th>personas</th>\n",
              "      <th>facts</th>\n",
              "      <th>facts_embeddings</th>\n",
              "      <th>similar_personas</th>\n",
              "      <th>persona</th>\n",
              "      <th>persona_embeddings</th>\n",
              "      <th>top_similar_personas</th>\n",
              "    </tr>\n",
              "  </thead>\n",
              "  <tbody>\n",
              "    <tr>\n",
              "      <th>0</th>\n",
              "      <td>0</td>\n",
              "      <td>[I am 32.\\nI do not want a job.\\nI play video ...</td>\n",
              "      <td>I am 32, I do not want a job, I play video gam...</td>\n",
              "      <td>[[-0.043408405, -0.039896216, 0.004573693, -0....</td>\n",
              "      <td>[1, 2, 14, 16, 57, 62, 75, 87, 96, 97, 100, 11...</td>\n",
              "      <td>I am 32.\\nI do not want a job.\\nI play video g...</td>\n",
              "      <td>[-0.27412432, -0.19816133, 0.18661429, -0.2283...</td>\n",
              "      <td>[1105, 2, 354, 87]</td>\n",
              "    </tr>\n",
              "    <tr>\n",
              "      <th>1</th>\n",
              "      <td>1</td>\n",
              "      <td>[I am 32.\\nI play video games all day.\\nI stil...</td>\n",
              "      <td>I am 32, I play video games all day, I still l...</td>\n",
              "      <td>[[-0.043408405, -0.039896216, 0.004573693, -0....</td>\n",
              "      <td>[0, 1, 2, 11, 14, 16, 27, 57, 62, 70, 75, 76, ...</td>\n",
              "      <td>I am 32.\\nI do not want a job.\\nI play video g...</td>\n",
              "      <td>[-0.27595556, -0.19046049, 0.36472562, -0.1551...</td>\n",
              "      <td>[11]</td>\n",
              "    </tr>\n",
              "    <tr>\n",
              "      <th>2</th>\n",
              "      <td>2</td>\n",
              "      <td>[I am 32.\\nI play video games all day.\\nI stil...</td>\n",
              "      <td>I am 32, I play video games all day, I still l...</td>\n",
              "      <td>[[-0.043408405, -0.039896216, 0.004573693, -0....</td>\n",
              "      <td>[0, 1, 14, 16, 25, 26, 27, 28, 35, 57, 62, 65,...</td>\n",
              "      <td>I am 32.\\nI do not want a job.\\nI play video g...</td>\n",
              "      <td>[-0.3358081, -0.24885227, 0.2707594, -0.333563...</td>\n",
              "      <td>[0, 354, 389, 937, 1001]</td>\n",
              "    </tr>\n",
              "    <tr>\n",
              "      <th>3</th>\n",
              "      <td>3</td>\n",
              "      <td>[I write.\\nI work at mcdonald s.\\nI watch yout...</td>\n",
              "      <td>I write, I work at mcdonald s, I watch youtube...</td>\n",
              "      <td>[[-0.052719686, -0.04074392, 0.03911773, -0.04...</td>\n",
              "      <td>[35, 39, 41, 45, 92, 95, 98, 99, 158, 159, 160...</td>\n",
              "      <td>I am 32.\\nI do not want a job.\\nI play video g...</td>\n",
              "      <td>[-0.34644818, -0.32542628, 0.3416062, -0.24792...</td>\n",
              "      <td>[1162, 1043, 723, 187, 284]</td>\n",
              "    </tr>\n",
              "    <tr>\n",
              "      <th>4</th>\n",
              "      <td>4</td>\n",
              "      <td>[I am bald.\\nI like to swim.\\nMy favorite drin...</td>\n",
              "      <td>I am bald, I like to swim, My favorite drink i...</td>\n",
              "      <td>[[-0.024434138, -0.024031263, 0.04923339, -0.0...</td>\n",
              "      <td>[23, 35, 52, 69, 92, 96, 104, 105, 110, 115, 1...</td>\n",
              "      <td>I am 32.\\nI do not want a job.\\nI play video g...</td>\n",
              "      <td>[-0.2633983, -0.20231283, 0.28170836, -0.11812...</td>\n",
              "      <td>[481, 1090, 259, 1028, 745, 170, 746, 747, 717...</td>\n",
              "    </tr>\n",
              "  </tbody>\n",
              "</table>\n",
              "</div>"
            ],
            "text/plain": [
              "   persona_id                                           personas  \\\n",
              "0           0  [I am 32.\\nI do not want a job.\\nI play video ...   \n",
              "1           1  [I am 32.\\nI play video games all day.\\nI stil...   \n",
              "2           2  [I am 32.\\nI play video games all day.\\nI stil...   \n",
              "3           3  [I write.\\nI work at mcdonald s.\\nI watch yout...   \n",
              "4           4  [I am bald.\\nI like to swim.\\nMy favorite drin...   \n",
              "\n",
              "                                               facts  \\\n",
              "0  I am 32, I do not want a job, I play video gam...   \n",
              "1  I am 32, I play video games all day, I still l...   \n",
              "2  I am 32, I play video games all day, I still l...   \n",
              "3  I write, I work at mcdonald s, I watch youtube...   \n",
              "4  I am bald, I like to swim, My favorite drink i...   \n",
              "\n",
              "                                    facts_embeddings  \\\n",
              "0  [[-0.043408405, -0.039896216, 0.004573693, -0....   \n",
              "1  [[-0.043408405, -0.039896216, 0.004573693, -0....   \n",
              "2  [[-0.043408405, -0.039896216, 0.004573693, -0....   \n",
              "3  [[-0.052719686, -0.04074392, 0.03911773, -0.04...   \n",
              "4  [[-0.024434138, -0.024031263, 0.04923339, -0.0...   \n",
              "\n",
              "                                    similar_personas  \\\n",
              "0  [1, 2, 14, 16, 57, 62, 75, 87, 96, 97, 100, 11...   \n",
              "1  [0, 1, 2, 11, 14, 16, 27, 57, 62, 70, 75, 76, ...   \n",
              "2  [0, 1, 14, 16, 25, 26, 27, 28, 35, 57, 62, 65,...   \n",
              "3  [35, 39, 41, 45, 92, 95, 98, 99, 158, 159, 160...   \n",
              "4  [23, 35, 52, 69, 92, 96, 104, 105, 110, 115, 1...   \n",
              "\n",
              "                                             persona  \\\n",
              "0  I am 32.\\nI do not want a job.\\nI play video g...   \n",
              "1  I am 32.\\nI do not want a job.\\nI play video g...   \n",
              "2  I am 32.\\nI do not want a job.\\nI play video g...   \n",
              "3  I am 32.\\nI do not want a job.\\nI play video g...   \n",
              "4  I am 32.\\nI do not want a job.\\nI play video g...   \n",
              "\n",
              "                                  persona_embeddings  \\\n",
              "0  [-0.27412432, -0.19816133, 0.18661429, -0.2283...   \n",
              "1  [-0.27595556, -0.19046049, 0.36472562, -0.1551...   \n",
              "2  [-0.3358081, -0.24885227, 0.2707594, -0.333563...   \n",
              "3  [-0.34644818, -0.32542628, 0.3416062, -0.24792...   \n",
              "4  [-0.2633983, -0.20231283, 0.28170836, -0.11812...   \n",
              "\n",
              "                                top_similar_personas  \n",
              "0                                 [1105, 2, 354, 87]  \n",
              "1                                               [11]  \n",
              "2                           [0, 354, 389, 937, 1001]  \n",
              "3                        [1162, 1043, 723, 187, 284]  \n",
              "4  [481, 1090, 259, 1028, 745, 170, 746, 747, 717...  "
            ]
          },
          "execution_count": 188,
          "metadata": {},
          "output_type": "execute_result"
        }
      ],
      "source": [
        "flattened_data.head()"
      ]
    },
    {
      "cell_type": "code",
      "execution_count": 189,
      "metadata": {
        "id": "AVvnszWLPJcL"
      },
      "outputs": [],
      "source": [
        "flattened_data.to_pickle('FINAL_FINAL_flattened_data.pkl')"
      ]
    },
    {
      "cell_type": "code",
      "execution_count": null,
      "metadata": {},
      "outputs": [],
      "source": []
    },
    {
      "cell_type": "code",
      "execution_count": null,
      "metadata": {},
      "outputs": [],
      "source": []
    }
  ],
  "metadata": {
    "accelerator": "GPU",
    "colab": {
      "gpuType": "T4",
      "provenance": []
    },
    "kernelspec": {
      "display_name": "Python 3",
      "name": "python3"
    },
    "language_info": {
      "codemirror_mode": {
        "name": "ipython",
        "version": 3
      },
      "file_extension": ".py",
      "mimetype": "text/x-python",
      "name": "python",
      "nbconvert_exporter": "python",
      "pygments_lexer": "ipython3",
      "version": "3.12.6"
    }
  },
  "nbformat": 4,
  "nbformat_minor": 0
}
